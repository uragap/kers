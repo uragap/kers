{
  "cells": [
    {
      "cell_type": "markdown",
      "metadata": {
        "colab_type": "text",
        "id": "Pnn4rDWGqDZL"
      },
      "source": [
        "##### Copyright 2018 Les auteurs de TensorFlow."
      ]
    },
    {
      "cell_type": "code",
      "execution_count": 0,
      "metadata": {
        "cellView": "form",
        "colab": {
        },
        "colab_type": "code",
        "id": "l534d35Gp68G"
      },
      "outputs": [

      ],
      "source": [
        "#@title Licensed under the Apache License, Version 2.0 (the \"License\");\n",
        "# you may not use this file except in compliance with the License.\n",
        "# You may obtain a copy of the License at\n",
        "#\n",
        "# https://www.apache.org/licenses/LICENSE-2.0\n",
        "#\n",
        "# Unless required by applicable law or agreed to in writing, software\n",
        "# distributed under the License is distributed on an \"AS IS\" BASIS,\n",
        "# WITHOUT WARRANTIES OR CONDITIONS OF ANY KIND, either express or implied.\n",
        "# See the License for the specific language governing permissions and\n",
        "# limitations under the License."
      ]
    },
    {
      "cell_type": "markdown",
      "metadata": {
        "colab_type": "text",
        "id": "3TI3Q3XBesaS"
      },
      "source": [
        "# Points de contrôle de la formation"
      ]
    },
    {
      "cell_type": "markdown",
      "metadata": {
        "colab_type": "text",
        "id": "yw_a0iGucY8z"
      },
      "source": [
        "<table class=\"tfo-notebook-buttons\" align=\"left\">\n",
        "  <td><a target=\"_blank\" href=\"https://www.tensorflow.org/guide/checkpoint\"><img src=\"https://www.tensorflow.org/images/tf_logo_32px.png\"> Voir sur TensorFlow.org</a></td>\n",
        "  <td><a target=\"_blank\" href=\"https://colab.research.google.com/github/tensorflow/docs/blob/master/site/en/guide/checkpoint.ipynb\"><img src=\"https://www.tensorflow.org/images/colab_logo_32px.png\"> Exécuter dans Google Colab</a></td>\n",
        "  <td><a target=\"_blank\" href=\"https://github.com/tensorflow/docs/blob/master/site/en/guide/checkpoint.ipynb\"><img src=\"https://www.tensorflow.org/images/GitHub-Mark-32px.png\"> Afficher la source sur GitHub</a></td>\n",
        "  <td><a href=\"https://storage.googleapis.com/tensorflow_docs/docs/site/en/guide/checkpoint.ipynb\"><img src=\"https://www.tensorflow.org/images/download_logo_32px.png\"> Télécharger le cahier</a></td>\n",
        "</table>"
      ]
    },
    {
      "cell_type": "markdown",
      "metadata": {
        "colab_type": "text",
        "id": "LeDp7dovcbus"
      },
      "source": [
        "L'expression \"Enregistrement d'un modèle TensorFlow\" signifie généralement l'une des deux choses suivantes:\n",
        "\n",
        "1. Points de contrôle, OU\n",
        "2. SavedModel.\n",
        "\n",
        "Les points de contrôle capturent la valeur exacte de tous les paramètres (objets `tf.Variable` ) utilisés par un modèle. Les points de contrôle ne contiennent aucune description du calcul défini par le modèle et ne sont donc généralement utiles que lorsque le code source qui utilisera les valeurs de paramètres enregistrées est disponible.\n",
        "\n",
        "Le format SavedModel, quant à lui, comprend une description sérialisée du calcul défini par le modèle en plus des valeurs des paramètres (point de contrôle). Les modèles dans ce format sont indépendants du code source qui a créé le modèle. Ils sont ainsi adaptés au déploiement via TensorFlow Serving, TensorFlow Lite, TensorFlow.js, ou des programmes dans d'autres langages de programmation (les API TensorFlow C, C ++, Java, Go, Rust, C # etc.).\n",
        "\n",
        "Ce guide couvre les API pour l'écriture et la lecture des points de contrôle."
      ]
    },
    {
      "cell_type": "markdown",
      "metadata": {
        "colab_type": "text",
        "id": "U0nm8k-6xfh2"
      },
      "source": [
        "## Installer"
      ]
    },
    {
      "cell_type": "code",
      "execution_count": 0,
      "metadata": {
        "colab": {
        },
        "colab_type": "code",
        "id": "VEvpMYAKsC4z"
      },
      "outputs": [

      ],
      "source": [
        "import tensorflow as tf"
      ]
    },
    {
      "cell_type": "code",
      "execution_count": 0,
      "metadata": {
        "colab": {
        },
        "colab_type": "code",
        "id": "OEQCseyeC4Ev"
      },
      "outputs": [

      ],
      "source": [
        "class Net(tf.keras.Model):\n",
        "  \"\"\"A simple linear model.\"\"\"\n",
        "\n",
        "  def __init__(self):\n",
        "    super(Net, self).__init__()\n",
        "    self.l1 = tf.keras.layers.Dense(5)\n",
        "\n",
        "  def call(self, x):\n",
        "    return self.l1(x)"
      ]
    },
    {
      "cell_type": "code",
      "execution_count": 0,
      "metadata": {
        "colab": {
        },
        "colab_type": "code",
        "id": "utqeoDADC5ZR"
      },
      "outputs": [

      ],
      "source": [
        "net = Net()"
      ]
    },
    {
      "cell_type": "markdown",
      "metadata": {
        "colab_type": "text",
        "id": "5vsq3-pffo1I"
      },
      "source": [
        "## Enregistrement à partir des API de formation `tf.keras`\n",
        "\n",
        "Consultez le [guide `tf.keras` sur l'enregistrement et la restauration](./keras/overview.ipynb#save_and_restore) .\n",
        "\n",
        "`tf.keras.Model.save_weights` enregistre un point de contrôle TensorFlow. "
      ]
    },
    {
      "cell_type": "code",
      "execution_count": 0,
      "metadata": {
        "colab": {
        },
        "colab_type": "code",
        "id": "SuhmrYPEl4D_"
      },
      "outputs": [

      ],
      "source": [
        "net.save_weights('easy_checkpoint')"
      ]
    },
    {
      "cell_type": "markdown",
      "metadata": {
        "colab_type": "text",
        "id": "XseWX5jDg4lQ"
      },
      "source": [
        "## Écriture des points de contrôle\n"
      ]
    },
    {
      "cell_type": "markdown",
      "metadata": {
        "colab_type": "text",
        "id": "1jpZPz76ZP3K"
      },
      "source": [
        "L'état persistant d'un modèle TensorFlow est stocké dans les objets `tf.Variable` . Ceux-ci peuvent être construits directement, mais sont souvent créés via des API de haut niveau telles que `tf.keras.layers` ou `tf.keras.Model` .\n",
        "\n",
        "Le moyen le plus simple de gérer les variables consiste à les attacher à des objets Python, puis à référencer ces objets.\n",
        "\n",
        "Les sous-classes de `tf.train.Checkpoint` , `tf.keras.layers.Layer` et `tf.keras.Model` automatiquement les variables affectées à leurs attributs. L'exemple suivant construit un modèle linéaire simple, puis écrit des points de contrôle qui contiennent des valeurs pour toutes les variables du modèle."
      ]
    },
    {
      "cell_type": "markdown",
      "metadata": {
        "colab_type": "text",
        "id": "x0vFBr_Im73_"
      },
      "source": [
        "Vous pouvez facilement enregistrer un modèle-point de contrôle avec `Model.save_weights`"
      ]
    },
    {
      "cell_type": "markdown",
      "metadata": {
        "colab_type": "text",
        "id": "FHTJ1JzxCi8a"
      },
      "source": [
        "### Point de contrôle manuel"
      ]
    },
    {
      "cell_type": "markdown",
      "metadata": {
        "colab_type": "text",
        "id": "6cF9fqYOCrEO"
      },
      "source": [
        "#### Installer"
      ]
    },
    {
      "cell_type": "markdown",
      "metadata": {
        "colab_type": "text",
        "id": "fNjf9KaLdIRP"
      },
      "source": [
        "Pour aider à démontrer toutes les fonctionnalités de `tf.train.Checkpoint` définissez un jeu de données de jouet et une étape d'optimisation:"
      ]
    },
    {
      "cell_type": "code",
      "execution_count": 0,
      "metadata": {
        "colab": {
        },
        "colab_type": "code",
        "id": "tSNyP4IJ9nkU"
      },
      "outputs": [

      ],
      "source": [
        "def toy_dataset():\n",
        "  inputs = tf.range(10.)[:, None]\n",
        "  labels = inputs * 5. + tf.range(5.)[None, :]\n",
        "  return tf.data.Dataset.from_tensor_slices(\n",
        "    dict(x=inputs, y=labels)).repeat().batch(2)"
      ]
    },
    {
      "cell_type": "code",
      "execution_count": 0,
      "metadata": {
        "colab": {
        },
        "colab_type": "code",
        "id": "ICm1cufh_JH8"
      },
      "outputs": [

      ],
      "source": [
        "def train_step(net, example, optimizer):\n",
        "  \"\"\"Trains `net` on `example` using `optimizer`.\"\"\"\n",
        "  with tf.GradientTape() as tape:\n",
        "    output = net(example['x'])\n",
        "    loss = tf.reduce_mean(tf.abs(output - example['y']))\n",
        "  variables = net.trainable_variables\n",
        "  gradients = tape.gradient(loss, variables)\n",
        "  optimizer.apply_gradients(zip(gradients, variables))\n",
        "  return loss"
      ]
    },
    {
      "cell_type": "markdown",
      "metadata": {
        "colab_type": "text",
        "id": "vxzGpHRbOVO6"
      },
      "source": [
        "#### Créer les objets de point de contrôle\n",
        "\n",
        "Pour créer manuellement un point de contrôle, vous aurez besoin d'un objet `tf.train.Checkpoint` . Où les objets que vous souhaitez contrôler sont définis en tant qu'attributs sur l'objet.\n",
        "\n",
        "Un `tf.train.CheckpointManager` peut également être utile pour gérer plusieurs points de contrôle."
      ]
    },
    {
      "cell_type": "code",
      "execution_count": 0,
      "metadata": {
        "colab": {
        },
        "colab_type": "code",
        "id": "ou5qarOQOWYl"
      },
      "outputs": [

      ],
      "source": [
        "opt = tf.keras.optimizers.Adam(0.1)\n",
        "dataset = toy_dataset()\n",
        "iterator = iter(dataset)\n",
        "ckpt = tf.train.Checkpoint(step=tf.Variable(1), optimizer=opt, net=net, iterator=iterator)\n",
        "manager = tf.train.CheckpointManager(ckpt, './tf_ckpts', max_to_keep=3)"
      ]
    },
    {
      "cell_type": "markdown",
      "metadata": {
        "colab_type": "text",
        "id": "8ZbYSD4uCy96"
      },
      "source": [
        "#### Former et contrôler le modèle"
      ]
    },
    {
      "cell_type": "markdown",
      "metadata": {
        "colab_type": "text",
        "id": "NP9IySmCeCkn"
      },
      "source": [
        "La boucle d'apprentissage suivante crée une instance du modèle et d'un optimiseur, puis les rassemble dans un objet `tf.train.Checkpoint` . Il appelle l'étape d'entraînement en boucle sur chaque lot de données et écrit périodiquement des points de contrôle sur le disque."
      ]
    },
    {
      "cell_type": "code",
      "execution_count": 0,
      "metadata": {
        "colab": {
        },
        "colab_type": "code",
        "id": "BbCS5A6K1VSH"
      },
      "outputs": [

      ],
      "source": [
        "def train_and_checkpoint(net, manager):\n",
        "  ckpt.restore(manager.latest_checkpoint)\n",
        "  if manager.latest_checkpoint:\n",
        "    print(\"Restored from {}\".format(manager.latest_checkpoint))\n",
        "  else:\n",
        "    print(\"Initializing from scratch.\")\n",
        "\n",
        "  for _ in range(50):\n",
        "    example = next(iterator)\n",
        "    loss = train_step(net, example, opt)\n",
        "    ckpt.step.assign_add(1)\n",
        "    if int(ckpt.step) % 10 == 0:\n",
        "      save_path = manager.save()\n",
        "      print(\"Saved checkpoint for step {}: {}\".format(int(ckpt.step), save_path))\n",
        "      print(\"loss {:1.2f}\".format(loss.numpy()))"
      ]
    },
    {
      "cell_type": "code",
      "execution_count": 0,
      "metadata": {
        "colab": {
        },
        "colab_type": "code",
        "id": "Ik3IBMTdPW41"
      },
      "outputs": [

      ],
      "source": [
        "train_and_checkpoint(net, manager)"
      ]
    },
    {
      "cell_type": "markdown",
      "metadata": {
        "colab_type": "text",
        "id": "2wzcc1xYN-sH"
      },
      "source": [
        "#### Restaurer et continuer la formation"
      ]
    },
    {
      "cell_type": "markdown",
      "metadata": {
        "colab_type": "text",
        "id": "lw1QeyRBgsLE"
      },
      "source": [
        "Après le premier, vous pouvez passer un nouveau modèle et un nouveau gestionnaire, mais reprendre la formation exactement là où vous vous êtes arrêté:"
      ]
    },
    {
      "cell_type": "code",
      "execution_count": 0,
      "metadata": {
        "colab": {
        },
        "colab_type": "code",
        "id": "UjilkTOV2PBK"
      },
      "outputs": [

      ],
      "source": [
        "opt = tf.keras.optimizers.Adam(0.1)\n",
        "net = Net()\n",
        "dataset = toy_dataset()\n",
        "iterator = iter(dataset)\n",
        "ckpt = tf.train.Checkpoint(step=tf.Variable(1), optimizer=opt, net=net, iterator=iterator)\n",
        "manager = tf.train.CheckpointManager(ckpt, './tf_ckpts', max_to_keep=3)\n",
        "\n",
        "train_and_checkpoint(net, manager)"
      ]
    },
    {
      "cell_type": "markdown",
      "metadata": {
        "colab_type": "text",
        "id": "dxJT9vV-2PnZ"
      },
      "source": [
        "L'objet `tf.train.CheckpointManager` supprime les anciens points de contrôle. Au-dessus, il est configuré pour ne conserver que les trois points de contrôle les plus récents."
      ]
    },
    {
      "cell_type": "code",
      "execution_count": 0,
      "metadata": {
        "colab": {
        },
        "colab_type": "code",
        "id": "3zmM0a-F5XqC"
      },
      "outputs": [

      ],
      "source": [
        "print(manager.checkpoints)  # List the three remaining checkpoints"
      ]
    },
    {
      "cell_type": "markdown",
      "metadata": {
        "colab_type": "text",
        "id": "qwlYDyjemY4P"
      },
      "source": [
        "Ces chemins, par exemple `'./tf_ckpts/ckpt-10'` , ne sont pas des fichiers sur le disque. Au lieu de cela, ce sont des préfixes pour un fichier d' `index` et un ou plusieurs fichiers de données contenant les valeurs de variable. Ces préfixes sont regroupés dans un seul fichier de `checkpoint` ( `'./tf_ckpts/checkpoint'` ) dans lequel `CheckpointManager` enregistre son état."
      ]
    },
    {
      "cell_type": "code",
      "execution_count": 0,
      "metadata": {
        "colab": {
        },
        "colab_type": "code",
        "id": "t1feej9JntV_"
      },
      "outputs": [

      ],
      "source": [
        "!ls ./tf_ckpts"
      ]
    },
    {
      "cell_type": "markdown",
      "metadata": {
        "colab_type": "text",
        "id": "DR2wQc9x6b3X"
      },
      "source": [
        "<a id=\"loading_mechanics\"></a>\n",
        "\n",
        "## Mécanique de chargement\n",
        "\n",
        "TensorFlow fait correspondre les variables aux valeurs de points de contrôle en parcourant un graphe dirigé avec des arêtes nommées, en commençant par l'objet en cours de chargement. Les noms d'arêtes proviennent généralement des noms d'attributs dans les objets, par exemple le `\"l1\"` dans `self.l1 = tf.keras.layers.Dense(5)` . `tf.train.Checkpoint` utilise ses noms d'argument de mot-clé, comme dans `\"step\"` dans `tf.train.Checkpoint(step=...)` .\n",
        "\n",
        "Le graphe de dépendances de l'exemple ci-dessus ressemble à ceci:\n",
        "\n",
        "![Visualisation du graphe de dépendances pour l'exemple de boucle d'apprentissage](https://tensorflow.org/images/guide/whole_checkpoint.svg)\n",
        "\n",
        "Avec l'optimiseur en rouge, les variables régulières en bleu et les variables d'emplacement de l'optimiseur en orange. Les autres nœuds, par exemple représentant le `tf.train.Checkpoint` , sont noirs.\n",
        "\n",
        "Les variables d'emplacement font partie de l'état de l'optimiseur, mais sont créées pour une variable spécifique. Par exemple, les arêtes `'m'` ci-dessus correspondent à l'élan, que l'optimiseur Adam suit pour chaque variable. Les variables d'emplacement ne sont enregistrées dans un point de contrôle que si la variable et l'optimiseur sont tous deux enregistrés, donc les bords en pointillés."
      ]
    },
    {
      "cell_type": "markdown",
      "metadata": {
        "colab_type": "text",
        "id": "VpY5IuanUEQ0"
      },
      "source": [
        "L'appel de `restore()` sur un objet `tf.train.Checkpoint` file d'attente les restaurations demandées, restaurant les valeurs des variables dès qu'il existe un chemin correspondant à partir de l'objet `Checkpoint` . Par exemple, nous pouvons charger uniquement le biais du modèle que nous avons défini ci-dessus en reconstruisant un chemin vers celui-ci à travers le réseau et la couche."
      ]
    },
    {
      "cell_type": "code",
      "execution_count": 0,
      "metadata": {
        "colab": {
        },
        "colab_type": "code",
        "id": "wmX2AuyH7TVt"
      },
      "outputs": [

      ],
      "source": [
        "to_restore = tf.Variable(tf.zeros([5]))\n",
        "print(to_restore.numpy())  # All zeros\n",
        "fake_layer = tf.train.Checkpoint(bias=to_restore)\n",
        "fake_net = tf.train.Checkpoint(l1=fake_layer)\n",
        "new_root = tf.train.Checkpoint(net=fake_net)\n",
        "status = new_root.restore(tf.train.latest_checkpoint('./tf_ckpts/'))\n",
        "print(to_restore.numpy())  # We get the restored value now"
      ]
    },
    {
      "cell_type": "markdown",
      "metadata": {
        "colab_type": "text",
        "id": "GqEW-_pJDAnE"
      },
      "source": [
        "Le graphe de dépendance pour ces nouveaux objets est un sous-graphe beaucoup plus petit du plus grand point de contrôle que nous avons écrit ci-dessus. Il comprend uniquement le biais et un compteur de sauvegarde que `tf.train.Checkpoint` utilise pour numéroter les points de contrôle.\n",
        "\n",
        "![Visualisation d'un sous-graphe pour la variable de biais](https://tensorflow.org/images/guide/partial_checkpoint.svg)\n",
        "\n",
        "`restore()` renvoie un objet status, qui a des assertions facultatives. Tous les objets que nous avons créés dans notre nouveau `Checkpoint` ont été restaurés, donc `status.assert_existing_objects_matched()` passe."
      ]
    },
    {
      "cell_type": "code",
      "execution_count": 0,
      "metadata": {
        "colab": {
        },
        "colab_type": "code",
        "id": "P9TQXl81Dq5r"
      },
      "outputs": [

      ],
      "source": [
        "status.assert_existing_objects_matched()"
      ]
    },
    {
      "cell_type": "markdown",
      "metadata": {
        "colab_type": "text",
        "id": "GoMwf8CFDu9r"
      },
      "source": [
        "Il y a de nombreux objets dans le point de contrôle qui ne correspondent pas, y compris le noyau de la couche et les variables de l'optimiseur. `status.assert_consumed()` ne passe que si le point de contrôle et le programme correspondent exactement, et lèverait une exception ici."
      ]
    },
    {
      "cell_type": "markdown",
      "metadata": {
        "colab_type": "text",
        "id": "KCcmJ-2j9RUP"
      },
      "source": [
        "### Restaurations retardées\n",
        "\n",
        "`Layer` objects in TensorFlow may delay the creation of variables to their first call, when input shapes are available. For example the shape of a `Dense` layer's kernel depends on both the layer's input and output shapes, and so the output shape required as a constructor argument is not enough information to create the variable on its own. Since calling a `Layer` also reads the variable's value, a restore must happen between the variable's creation and its first use.\n",
        "\n",
        "Pour prendre en charge cet idiome, `tf.train.Checkpoint` restaure les files d'attente qui n'ont pas encore de variable correspondante."
      ]
    },
    {
      "cell_type": "code",
      "execution_count": 0,
      "metadata": {
        "colab": {
        },
        "colab_type": "code",
        "id": "TXYUCO3v-I72"
      },
      "outputs": [

      ],
      "source": [
        "delayed_restore = tf.Variable(tf.zeros([1, 5]))\n",
        "print(delayed_restore.numpy())  # Not restored; still zeros\n",
        "fake_layer.kernel = delayed_restore\n",
        "print(delayed_restore.numpy())  # Restored"
      ]
    },
    {
      "cell_type": "markdown",
      "metadata": {
        "colab_type": "text",
        "id": "-DWhJ3glyobN"
      },
      "source": [
        "### Inspection manuelle des points de contrôle\n",
        "\n",
        "`tf.train.list_variables` répertorie les clés de point de contrôle et les formes des variables dans un point de contrôle. Les clés de point de contrôle sont des chemins dans le graphique affiché ci-dessus."
      ]
    },
    {
      "cell_type": "code",
      "execution_count": 0,
      "metadata": {
        "colab": {
        },
        "colab_type": "code",
        "id": "RlRsADTezoBD"
      },
      "outputs": [

      ],
      "source": [
        "tf.train.list_variables(tf.train.latest_checkpoint('./tf_ckpts/'))"
      ]
    },
    {
      "cell_type": "markdown",
      "metadata": {
        "colab_type": "text",
        "id": "5fxk_BnZ4W1b"
      },
      "source": [
        "### Suivi des listes et des dictionnaires\n",
        "\n",
        "Comme pour les attributions directes d'attributs comme `self.l1 = tf.keras.layers.Dense(5)` , l'affectation de listes et de dictionnaires à des attributs suivra leur contenu."
      ]
    },
    {
      "cell_type": "code",
      "execution_count": 0,
      "metadata": {
        "colab": {
        },
        "colab_type": "code",
        "id": "rfaIbDtDHAr_"
      },
      "outputs": [

      ],
      "source": [
        "save = tf.train.Checkpoint()\n",
        "save.listed = [tf.Variable(1.)]\n",
        "save.listed.append(tf.Variable(2.))\n",
        "save.mapped = {'one': save.listed[0]}\n",
        "save.mapped['two'] = save.listed[1]\n",
        "save_path = save.save('./tf_list_example')\n",
        "\n",
        "restore = tf.train.Checkpoint()\n",
        "v2 = tf.Variable(0.)\n",
        "assert 0. == v2.numpy()  # Not restored yet\n",
        "restore.mapped = {'two': v2}\n",
        "restore.restore(save_path)\n",
        "assert 2. == v2.numpy()"
      ]
    },
    {
      "cell_type": "markdown",
      "metadata": {
        "colab_type": "text",
        "id": "UTKvbxHcI3T2"
      },
      "source": [
        "Vous remarquerez peut-être des objets wrapper pour les listes et les dictionnaires. Ces wrappers sont des versions vérifiables des structures de données sous-jacentes. Tout comme le chargement basé sur les attributs, ces wrappers restaurent la valeur d'une variable dès qu'elle est ajoutée au conteneur."
      ]
    },
    {
      "cell_type": "code",
      "execution_count": 0,
      "metadata": {
        "colab": {
        },
        "colab_type": "code",
        "id": "s0Uq1Hv5JCmm"
      },
      "outputs": [

      ],
      "source": [
        "restore.listed = []\n",
        "print(restore.listed)  # ListWrapper([])\n",
        "v1 = tf.Variable(0.)\n",
        "restore.listed.append(v1)  # Restores v1, from restore() in the previous cell\n",
        "assert 1. == v1.numpy()"
      ]
    },
    {
      "cell_type": "markdown",
      "metadata": {
        "colab_type": "text",
        "id": "OxCIf2J6JyQ8"
      },
      "source": [
        "Le même suivi est automatiquement appliqué aux sous-classes de `tf.keras.Model` , et peut être utilisé par exemple pour suivre des listes de couches."
      ]
    },
    {
      "cell_type": "markdown",
      "metadata": {
        "colab_type": "text",
        "id": "zGG1tOM0L6iM"
      },
      "source": [
        "## Enregistrement de points de contrôle basés sur des objets avec Estimator\n",
        "\n",
        "Consultez le [guide Estimator](https://www.tensorflow.org/guide/estimator) .\n",
        "\n",
        "Les estimateurs enregistrent par défaut les points de contrôle avec des noms de variables plutôt que le graphe d'objets décrit dans les sections précédentes. `tf.train.Checkpoint` acceptera les points de contrôle basés sur les noms, mais les noms de variables peuvent changer lors du déplacement de parties d'un modèle en dehors de `model_fn` de l'estimateur. L'enregistrement de points de contrôle basés sur des objets facilite l'apprentissage d'un modèle dans un Estimator, puis son utilisation en dehors de celui-ci."
      ]
    },
    {
      "cell_type": "code",
      "execution_count": 0,
      "metadata": {
        "colab": {
        },
        "colab_type": "code",
        "id": "-8AMJeueNyoM"
      },
      "outputs": [

      ],
      "source": [
        "import tensorflow.compat.v1 as tf_compat"
      ]
    },
    {
      "cell_type": "code",
      "execution_count": 0,
      "metadata": {
        "colab": {
        },
        "colab_type": "code",
        "id": "T6fQsBzJQN2y"
      },
      "outputs": [

      ],
      "source": [
        "def model_fn(features, labels, mode):\n",
        "  net = Net()\n",
        "  opt = tf.keras.optimizers.Adam(0.1)\n",
        "  ckpt = tf.train.Checkpoint(step=tf_compat.train.get_global_step(),\n",
        "                             optimizer=opt, net=net)\n",
        "  with tf.GradientTape() as tape:\n",
        "    output = net(features['x'])\n",
        "    loss = tf.reduce_mean(tf.abs(output - features['y']))\n",
        "  variables = net.trainable_variables\n",
        "  gradients = tape.gradient(loss, variables)\n",
        "  return tf.estimator.EstimatorSpec(\n",
        "    mode,\n",
        "    loss=loss,\n",
        "    train_op=tf.group(opt.apply_gradients(zip(gradients, variables)),\n",
        "                      ckpt.step.assign_add(1)),\n",
        "    # Tell the Estimator to save \"ckpt\" in an object-based format.\n",
        "    scaffold=tf_compat.train.Scaffold(saver=ckpt))\n",
        "\n",
        "tf.keras.backend.clear_session()\n",
        "est = tf.estimator.Estimator(model_fn, './tf_estimator_example/')\n",
        "est.train(toy_dataset, steps=10)"
      ]
    },
    {
      "cell_type": "markdown",
      "metadata": {
        "colab_type": "text",
        "id": "tObYHnrrb_mL"
      },
      "source": [
        "`tf.train.Checkpoint` peut alors charger les points de contrôle de l'estimateur à partir de son `model_dir` ."
      ]
    },
    {
      "cell_type": "code",
      "execution_count": 0,
      "metadata": {
        "colab": {
        },
        "colab_type": "code",
        "id": "Q6IP3Y_wb-fs"
      },
      "outputs": [

      ],
      "source": [
        "opt = tf.keras.optimizers.Adam(0.1)\n",
        "net = Net()\n",
        "ckpt = tf.train.Checkpoint(\n",
        "  step=tf.Variable(1, dtype=tf.int64), optimizer=opt, net=net)\n",
        "ckpt.restore(tf.train.latest_checkpoint('./tf_estimator_example/'))\n",
        "ckpt.step.numpy()  # From est.train(..., steps=10)"
      ]
    },
    {
      "cell_type": "markdown",
      "metadata": {
        "colab_type": "text",
        "id": "knyUFMrJg8y4"
      },
      "source": [
        "## Résumé\n",
        "\n",
        "Les objets TensorFlow fournissent un mécanisme automatique simple pour enregistrer et restaurer les valeurs des variables qu'ils utilisent.\n"
      ]
    }
  ],
  "metadata": {
    "colab": {
      "collapsed_sections": [

      ],
      "name": "checkpoint.ipynb",
      "private_outputs": true,
      "provenance": [

      ],
      "toc_visible": true
    },
    "kernelspec": {
      "display_name": "Python 3",
      "name": "python3"
    }
  },
  "nbformat": 4,
  "nbformat_minor": 0
}
